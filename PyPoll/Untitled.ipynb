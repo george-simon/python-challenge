{
 "cells": [
  {
   "cell_type": "code",
   "execution_count": 35,
   "metadata": {},
   "outputs": [],
   "source": [
    "import csv\n",
    "import os\n",
    "\n",
    "election_datapath = os.path.join(\"Resources\", \"election_data.csv\")\n",
    "\n"
   ]
  },
  {
   "cell_type": "code",
   "execution_count": 50,
   "metadata": {},
   "outputs": [
    {
     "name": "stdout",
     "output_type": "stream",
     "text": [
      "{'Khan': 2218231, 'Correy': 704200, 'Li': 492940, \"O'Tooley\": 105630}\n"
     ]
    }
   ],
   "source": [
    "# open file\n",
    "with open(election_datapath, newline='') as csvfile :\n",
    "    reader = csv.reader(csvfile, delimiter=',')\n",
    "    next(reader, None)  # skip the headers\n",
    "    \n",
    "    votes = []\n",
    "    vote_counter = {}\n",
    "\n",
    "    #loop through data cound\n",
    "    for row in reader:\n",
    "        votes.append(row[2])\n",
    "        \n",
    "    #counting items in a list by inputting into a dictionary: https://stackoverflow.com/questions/3496518/using-a-dictionary-to-count-the-items-in-a-list\n",
    "    #.get method: https://stackoverflow.com/questions/2068349/understanding-get-method-in-python\n",
    "    for i in votes:\n",
    "        vote_counter[i] = vote_counter.get(i, 0) + 1\n",
    "        \n",
    "print(vote_counter)       \n",
    "\n",
    "# list(vote_counter.values())\n"
   ]
  },
  {
   "cell_type": "code",
   "execution_count": 52,
   "metadata": {},
   "outputs": [],
   "source": [
    "#calculate percentages\n",
    "percentage_K = (vote_counter.get(\"Khan\") / len(votes)) *100\n",
    "percentage_O = (vote_counter.get(\"Correy\") / len(votes)) *100\n",
    "percentage_L = (vote_counter.get(\"Li\") / len(votes)) *100\n",
    "percentage_C = (vote_counter.get(\"O'Tooley\") / len(votes)) *100"
   ]
  },
  {
   "cell_type": "code",
   "execution_count": 59,
   "metadata": {},
   "outputs": [
    {
     "name": "stdout",
     "output_type": "stream",
     "text": [
      "Election Results \n",
      "----------------------------\n",
      "Total Votes: 3521001\n",
      "\n",
      "----------------------------\n",
      "Khan: 63.0% 2218231\n",
      "Correy: 20.0% 704200\n",
      "Li: 14.0% 492940\n"
     ]
    }
   ],
   "source": [
    "    #Print Output\n",
    "    print(f\"Election Results \\n----------------------------\")\n",
    "    print(f\"Total Votes: {len(votes)}\")\n",
    "    print(f\"\\n----------------------------\")\n",
    "    \n",
    "    # Print The total number of votes each candidate won & percentage\n",
    "    print(f\"Khan: {round(percentage_K,2)}% {vote_counter.get('Khan')}\")\n",
    "    print(f\"Correy: {round(percentage_O,2)}% {vote_counter.get('Correy')}\")\n",
    "    print(f\"Li: {round(percentage_L,2)}% {vote_counter.get('Li')}\")\n",
    "#     print(f\"\"O'Tooley: {round(percentage_C,2)}% {vote_counter.get(\"O'Tooley\")}\"\")"
   ]
  },
  {
   "cell_type": "code",
   "execution_count": 88,
   "metadata": {},
   "outputs": [
    {
     "name": "stdout",
     "output_type": "stream",
     "text": [
      " The winner is: Khan\n"
     ]
    }
   ],
   "source": [
    "#extract the winner with the most votes out of the dictionary\n",
    "#https://stackoverflow.com/questions/268272/getting-key-with-maximum-value-in-dictionary\n",
    "#  a) create a list of the dict's keys and values; \n",
    "#  b) return the key with the max value\"\"\"  \n",
    "v=list(vote_counter.values())\n",
    "k=list(vote_counter.keys())\n",
    "print(f\" The winner is: {k[v.index(max(v))]}\")"
   ]
  }
 ],
 "metadata": {
  "kernelspec": {
   "display_name": "Python 3",
   "language": "python",
   "name": "python3"
  },
  "language_info": {
   "codemirror_mode": {
    "name": "ipython",
    "version": 3
   },
   "file_extension": ".py",
   "mimetype": "text/x-python",
   "name": "python",
   "nbconvert_exporter": "python",
   "pygments_lexer": "ipython3",
   "version": "3.7.6"
  }
 },
 "nbformat": 4,
 "nbformat_minor": 4
}
